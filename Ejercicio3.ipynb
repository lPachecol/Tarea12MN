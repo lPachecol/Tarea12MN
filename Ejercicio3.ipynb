{
 "cells": [
  {
   "cell_type": "markdown",
   "id": "dd9b7df0",
   "metadata": {},
   "source": [
    "### Ejercicio 3"
   ]
  },
  {
   "cell_type": "code",
   "execution_count": 1,
   "id": "b4b080b6",
   "metadata": {},
   "outputs": [
    {
     "name": "stdout",
     "output_type": "stream",
     "text": [
      " t\t   y_aprox\n",
      "1.00\t1.000000\n",
      "1.10\t1.000000\n",
      "1.20\t1.008264\n",
      "1.30\t1.021689\n",
      "1.40\t1.038515\n",
      "1.50\t1.057668\n",
      "1.60\t1.078461\n",
      "1.70\t1.100432\n",
      "1.80\t1.123262\n",
      "1.90\t1.146724\n",
      "2.00\t1.170652\n"
     ]
    }
   ],
   "source": [
    "import numpy as np\n",
    "\n",
    "def f(t, y):\n",
    "    return (y / t) - (y / t)**2\n",
    "\n",
    "t0, y0 = 1, 1\n",
    "h = 0.1\n",
    "t_final = 2\n",
    "\n",
    "t_values = [t0]\n",
    "y_values = [y0]\n",
    "\n",
    "while t_values[-1] < t_final:\n",
    "    t_n = t_values[-1]\n",
    "    y_n = y_values[-1]\n",
    "    y_next = y_n + h * f(t_n, y_n)\n",
    "    t_next = t_n + h\n",
    "\n",
    "    t_values.append(t_next)\n",
    "    y_values.append(y_next)\n",
    "\n",
    "# Mostrar resultados\n",
    "print(\" t\\t   y_aprox\")\n",
    "for t, y in zip(t_values, y_values):\n",
    "    print(f\"{t:.2f}\\t{y:.6f}\")\n"
   ]
  },
  {
   "cell_type": "code",
   "execution_count": 2,
   "id": "86a2d2ef",
   "metadata": {},
   "outputs": [
    {
     "name": "stdout",
     "output_type": "stream",
     "text": [
      " t\t   y_aprox\n",
      "1.00\t0.000000\n",
      "1.20\t0.200000\n",
      "1.40\t0.438889\n",
      "1.60\t0.721243\n",
      "1.80\t1.052038\n",
      "2.00\t1.437251\n",
      "2.20\t1.884261\n",
      "2.40\t2.402270\n",
      "2.60\t3.002837\n",
      "2.80\t3.700601\n",
      "3.00\t4.514277\n"
     ]
    }
   ],
   "source": [
    "def f(t, y):\n",
    "    return 1 + (y / t) + (y / t)**2\n",
    "\n",
    "t0, y0 = 1, 0\n",
    "h = 0.2\n",
    "t_final = 3\n",
    "\n",
    "t_values = [t0]\n",
    "y_values = [y0]\n",
    "\n",
    "while t_values[-1] < t_final:\n",
    "    t_n = t_values[-1]\n",
    "    y_n = y_values[-1]\n",
    "    y_next = y_n + h * f(t_n, y_n)\n",
    "    t_next = t_n + h\n",
    "\n",
    "    t_values.append(t_next)\n",
    "    y_values.append(y_next)\n",
    "\n",
    "print(\" t\\t   y_aprox\")\n",
    "for t, y in zip(t_values, y_values):\n",
    "    print(f\"{t:.2f}\\t{y:.6f}\")\n"
   ]
  },
  {
   "cell_type": "code",
   "execution_count": 3,
   "id": "6b2f92a6",
   "metadata": {},
   "outputs": [
    {
     "name": "stdout",
     "output_type": "stream",
     "text": [
      " t\t   y_aprox\n",
      "0.00\t-2.000000\n",
      "0.20\t-1.800000\n",
      "0.40\t-1.608000\n",
      "0.60\t-1.438733\n",
      "0.80\t-1.301737\n",
      "1.00\t-1.199251\n",
      "1.20\t-1.127491\n",
      "1.40\t-1.079745\n",
      "1.60\t-1.049119\n",
      "1.80\t-1.029954\n",
      "2.00\t-1.018152\n",
      "2.20\t-1.010957\n"
     ]
    }
   ],
   "source": [
    "def f(t, y):\n",
    "    return - (y + 1) * (y + 3)\n",
    "\n",
    "t0, y0 = 0, -2\n",
    "h = 0.2\n",
    "t_final = 2\n",
    "\n",
    "t_values = [t0]\n",
    "y_values = [y0]\n",
    "\n",
    "while t_values[-1] < t_final:\n",
    "    t_n = t_values[-1]\n",
    "    y_n = y_values[-1]\n",
    "    y_next = y_n + h * f(t_n, y_n)\n",
    "    t_next = t_n + h\n",
    "\n",
    "    t_values.append(t_next)\n",
    "    y_values.append(y_next)\n",
    "\n",
    "print(\" t\\t   y_aprox\")\n",
    "for t, y in zip(t_values, y_values):\n",
    "    print(f\"{t:.2f}\\t{y:.6f}\")\n"
   ]
  },
  {
   "cell_type": "code",
   "execution_count": 4,
   "id": "aeaf73e0",
   "metadata": {},
   "outputs": [
    {
     "name": "stdout",
     "output_type": "stream",
     "text": [
      " t\t   y_aprox\n",
      "0.00\t0.333333\n",
      "0.10\t0.166667\n",
      "0.20\t0.108333\n",
      "0.30\t0.114167\n",
      "0.40\t0.162083\n",
      "0.50\t0.241042\n",
      "0.60\t0.345521\n",
      "0.70\t0.472760\n",
      "0.80\t0.621380\n",
      "0.90\t0.790690\n",
      "1.00\t0.980345\n",
      "1.10\t1.190173\n"
     ]
    }
   ],
   "source": [
    "def f(t, y):\n",
    "    return -5 * y + 5 * t**2 + 2 * t\n",
    "\n",
    "t0, y0 = 0, 1/3\n",
    "h = 0.1\n",
    "t_final = 1\n",
    "\n",
    "t_values = [t0]\n",
    "y_values = [y0]\n",
    "\n",
    "while t_values[-1] < t_final:\n",
    "    t_n = t_values[-1]\n",
    "    y_n = y_values[-1]\n",
    "    y_next = y_n + h * f(t_n, y_n)\n",
    "    t_next = t_n + h\n",
    "\n",
    "    t_values.append(t_next)\n",
    "    y_values.append(y_next)\n",
    "\n",
    "print(\" t\\t   y_aprox\")\n",
    "for t, y in zip(t_values, y_values):\n",
    "    print(f\"{t:.2f}\\t{y:.6f}\")\n"
   ]
  }
 ],
 "metadata": {
  "kernelspec": {
   "display_name": "Python 3",
   "language": "python",
   "name": "python3"
  },
  "language_info": {
   "codemirror_mode": {
    "name": "ipython",
    "version": 3
   },
   "file_extension": ".py",
   "mimetype": "text/x-python",
   "name": "python",
   "nbconvert_exporter": "python",
   "pygments_lexer": "ipython3",
   "version": "3.13.3"
  }
 },
 "nbformat": 4,
 "nbformat_minor": 5
}
