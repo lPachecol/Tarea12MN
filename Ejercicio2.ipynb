{
 "cells": [
  {
   "cell_type": "markdown",
   "id": "5070f57d",
   "metadata": {},
   "source": [
    "### Ejercicio 2"
   ]
  },
  {
   "cell_type": "code",
   "execution_count": 1,
   "id": "a890778e",
   "metadata": {},
   "outputs": [
    {
     "name": "stdout",
     "output_type": "stream",
     "text": [
      " t\t   y_aprox\t   y_real\t   error\n",
      "0.00\t0.000000\t0.000000\t0.000000\n",
      "0.50\t0.000000\t0.283617\t0.283617\n",
      "1.00\t1.120422\t3.219099\t2.098677\n"
     ]
    }
   ],
   "source": [
    "import numpy as np\n",
    "\n",
    "# Solución real\n",
    "def y_real(t):\n",
    "    return (1/5)*t*np.exp(3*t) - (1/25)*np.exp(3*t) + (1/25)*np.exp(-2*t)\n",
    "\n",
    "# Euler ya resuelto anteriormente:\n",
    "def f(t, y):\n",
    "    return t * np.exp(3 * t) - 2 * y\n",
    "\n",
    "t0, y0 = 0, 0\n",
    "h = 0.5\n",
    "t_final = 1\n",
    "\n",
    "t_values = [t0]\n",
    "y_values = [y0]\n",
    "real_values = [y_real(t0)]\n",
    "errors = [abs(y0 - y_real(t0))]\n",
    "\n",
    "while t_values[-1] < t_final:\n",
    "    t_n = t_values[-1]\n",
    "    y_n = y_values[-1]\n",
    "    y_next = y_n + h * f(t_n, y_n)\n",
    "    t_next = t_n + h\n",
    "\n",
    "    t_values.append(t_next)\n",
    "    y_values.append(y_next)\n",
    "    y_true = y_real(t_next)\n",
    "    real_values.append(y_true)\n",
    "    errors.append(abs(y_true - y_next))\n",
    "\n",
    "# Mostrar resultados\n",
    "print(\" t\\t   y_aprox\\t   y_real\\t   error\")\n",
    "for t, y_aprox, y_real_val, err in zip(t_values, y_values, real_values, errors):\n",
    "    print(f\"{t:.2f}\\t{y_aprox:.6f}\\t{y_real_val:.6f}\\t{err:.6f}\")\n"
   ]
  },
  {
   "cell_type": "code",
   "execution_count": 2,
   "id": "b4f54590",
   "metadata": {},
   "outputs": [
    {
     "name": "stdout",
     "output_type": "stream",
     "text": [
      " t\t   y_aprox\t   y_real\t   error\n",
      "2.00\t1.000000\t1.000000\t0.000000\n",
      "2.50\t2.000000\t1.833333\t0.166667\n",
      "3.00\t2.625000\t2.500000\t0.125000\n"
     ]
    }
   ],
   "source": [
    "def y_real(t):\n",
    "    return t + 1 / (1 - t)\n",
    "\n",
    "def f(t, y):\n",
    "    return 1 + (t - y)**2\n",
    "\n",
    "t0, y0 = 2, 1\n",
    "h = 0.5\n",
    "t_final = 3\n",
    "\n",
    "t_values = [t0]\n",
    "y_values = [y0]\n",
    "real_values = [y_real(t0)]\n",
    "errors = [abs(y0 - y_real(t0))]\n",
    "\n",
    "while t_values[-1] < t_final:\n",
    "    t_n = t_values[-1]\n",
    "    y_n = y_values[-1]\n",
    "    y_next = y_n + h * f(t_n, y_n)\n",
    "    t_next = t_n + h\n",
    "\n",
    "    t_values.append(t_next)\n",
    "    y_values.append(y_next)\n",
    "    y_true = y_real(t_next)\n",
    "    real_values.append(y_true)\n",
    "    errors.append(abs(y_true - y_next))\n",
    "\n",
    "print(\" t\\t   y_aprox\\t   y_real\\t   error\")\n",
    "for t, y_aprox, y_real_val, err in zip(t_values, y_values, real_values, errors):\n",
    "    print(f\"{t:.2f}\\t{y_aprox:.6f}\\t{y_real_val:.6f}\\t{err:.6f}\")\n"
   ]
  },
  {
   "cell_type": "code",
   "execution_count": 3,
   "id": "31626bb3",
   "metadata": {},
   "outputs": [
    {
     "name": "stdout",
     "output_type": "stream",
     "text": [
      " t\t   y_aprox\t   y_real\t   error\n",
      "1.00\t2.000000\t2.000000\t0.000000\n",
      "1.25\t2.750000\t2.778929\t0.028929\n",
      "1.50\t3.550000\t3.608198\t0.058198\n",
      "1.75\t4.391667\t4.479328\t0.087661\n",
      "2.00\t5.269048\t5.386294\t0.117247\n"
     ]
    }
   ],
   "source": [
    "def y_real(t):\n",
    "    return t * np.log(t) + 2 * t\n",
    "\n",
    "def f(t, y):\n",
    "    return 1 + y / t\n",
    "\n",
    "t0, y0 = 1, 2\n",
    "h = 0.25\n",
    "t_final = 2\n",
    "\n",
    "t_values = [t0]\n",
    "y_values = [y0]\n",
    "real_values = [y_real(t0)]\n",
    "errors = [abs(y0 - y_real(t0))]\n",
    "\n",
    "while t_values[-1] < t_final:\n",
    "    t_n = t_values[-1]\n",
    "    y_n = y_values[-1]\n",
    "    y_next = y_n + h * f(t_n, y_n)\n",
    "    t_next = t_n + h\n",
    "\n",
    "    t_values.append(t_next)\n",
    "    y_values.append(y_next)\n",
    "    y_true = y_real(t_next)\n",
    "    real_values.append(y_true)\n",
    "    errors.append(abs(y_true - y_next))\n",
    "\n",
    "print(\" t\\t   y_aprox\\t   y_real\\t   error\")\n",
    "for t, y_aprox, y_real_val, err in zip(t_values, y_values, real_values, errors):\n",
    "    print(f\"{t:.2f}\\t{y_aprox:.6f}\\t{y_real_val:.6f}\\t{err:.6f}\")\n"
   ]
  },
  {
   "cell_type": "code",
   "execution_count": 4,
   "id": "2bdb0c93",
   "metadata": {},
   "outputs": [
    {
     "name": "stdout",
     "output_type": "stream",
     "text": [
      " t\t   y_aprox\t   y_real\t   error\n",
      "0.00\t1.000000\t1.000000\t0.000000\n",
      "0.25\t1.250000\t1.329150\t0.079150\n",
      "0.50\t1.639805\t1.730490\t0.090684\n",
      "0.75\t2.024255\t2.041472\t0.017217\n",
      "1.00\t2.236457\t2.117980\t0.118478\n"
     ]
    }
   ],
   "source": [
    "def y_real(t):\n",
    "    return 0.5 * np.sin(2 * t) - (1/3) * np.cos(3 * t) + (4/3)\n",
    "\n",
    "def f(t, y):\n",
    "    return np.cos(2 * t) + np.sin(3 * t)\n",
    "\n",
    "t0, y0 = 0, 1\n",
    "h = 0.25\n",
    "t_final = 1\n",
    "\n",
    "t_values = [t0]\n",
    "y_values = [y0]\n",
    "real_values = [y_real(t0)]\n",
    "errors = [abs(y0 - y_real(t0))]\n",
    "\n",
    "while t_values[-1] < t_final:\n",
    "    t_n = t_values[-1]\n",
    "    y_n = y_values[-1]\n",
    "    y_next = y_n + h * f(t_n, y_n)\n",
    "    t_next = t_n + h\n",
    "\n",
    "    t_values.append(t_next)\n",
    "    y_values.append(y_next)\n",
    "    y_true = y_real(t_next)\n",
    "    real_values.append(y_true)\n",
    "    errors.append(abs(y_true - y_next))\n",
    "\n",
    "print(\" t\\t   y_aprox\\t   y_real\\t   error\")\n",
    "for t, y_aprox, y_real_val, err in zip(t_values, y_values, real_values, errors):\n",
    "    print(f\"{t:.2f}\\t{y_aprox:.6f}\\t{y_real_val:.6f}\\t{err:.6f}\")\n"
   ]
  }
 ],
 "metadata": {
  "kernelspec": {
   "display_name": "Python 3",
   "language": "python",
   "name": "python3"
  },
  "language_info": {
   "codemirror_mode": {
    "name": "ipython",
    "version": 3
   },
   "file_extension": ".py",
   "mimetype": "text/x-python",
   "name": "python",
   "nbconvert_exporter": "python",
   "pygments_lexer": "ipython3",
   "version": "3.13.3"
  }
 },
 "nbformat": 4,
 "nbformat_minor": 5
}
