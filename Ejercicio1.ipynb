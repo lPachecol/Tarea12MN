import numpy as np
import matplotlib.pyplot as plt

# Definición de la función diferencial
def f(t, y):
    return t * np.exp(3 * t) - 2 * y

# Parámetros iniciales
t0, y0 = 0, 0
h = 0.5
t_final = 1

# Método de Euler
t_values = [t0]
y_values = [y0]

while t_values[-1] < t_final:
    t_n = t_values[-1]
    y_n = y_values[-1]
    y_next = y_n + h * f(t_n, y_n)
    t_next = t_n + h
    t_values.append(t_next)
    y_values.append(y_next)

# Mostrar resultados
for t, y in zip(t_values, y_values):
    print(f"t = {t:.2f}, y ≈ {y:.6f}")

# Graficar
plt.plot(t_values, y_values, marker='o')
plt.title("Euler: y' = t e^{3t} - 2y")
plt.xlabel("t")
plt.ylabel("y")
plt.grid(True)
plt.show()
